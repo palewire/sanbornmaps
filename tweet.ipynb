{
 "cells": [
  {
   "cell_type": "code",
   "execution_count": null,
   "id": "75301c2b-dc27-4e24-ba0a-77bd1de8937e",
   "metadata": {},
   "outputs": [],
   "source": [
    "import os\n",
    "import random\n",
    "import twitter\n",
    "import requests\n",
    "from mastodon import Mastodon\n",
    "from pathlib import Path"
   ]
  },
  {
   "cell_type": "markdown",
   "id": "b7c1f197-809c-4e68-b033-093ebc638e88",
   "metadata": {},
   "source": [
    "Request the full collection"
   ]
  },
  {
   "cell_type": "code",
   "execution_count": null,
   "id": "77e4c5f3-9630-4ecd-8b81-152fc92b6174",
   "metadata": {},
   "outputs": [],
   "source": [
    "url = \"https://www.loc.gov/collections/sanborn-maps/?fo=json\""
   ]
  },
  {
   "cell_type": "code",
   "execution_count": null,
   "id": "b9fb2f60-36e2-40db-aa3a-abac4fec016b",
   "metadata": {},
   "outputs": [],
   "source": [
    "r = requests.get(url)"
   ]
  },
  {
   "cell_type": "code",
   "execution_count": null,
   "id": "a0a86574-be15-4647-934e-3c09ed91a087",
   "metadata": {},
   "outputs": [],
   "source": [
    "data = r.json()"
   ]
  },
  {
   "cell_type": "markdown",
   "id": "4b6c8245-c6db-4a23-9eb3-fadfe6f03130",
   "metadata": {},
   "source": [
    "Pull a random page"
   ]
  },
  {
   "cell_type": "code",
   "execution_count": null,
   "id": "7f76c50b-db30-47b4-ba69-271584136803",
   "metadata": {},
   "outputs": [],
   "source": [
    "max_page = data['pagination']['total']"
   ]
  },
  {
   "cell_type": "code",
   "execution_count": null,
   "id": "75924564-652e-42a4-a67f-ec1737a22488",
   "metadata": {},
   "outputs": [],
   "source": [
    "max_page"
   ]
  },
  {
   "cell_type": "code",
   "execution_count": null,
   "id": "d3f06587-3c5d-41b6-9656-958aba39270c",
   "metadata": {},
   "outputs": [],
   "source": [
    "random_page = random.randrange(1, max_page + 1)"
   ]
  },
  {
   "cell_type": "code",
   "execution_count": null,
   "id": "42abb78b-2f2f-41e9-8beb-ef56a9895df2",
   "metadata": {},
   "outputs": [],
   "source": [
    "random_page"
   ]
  },
  {
   "cell_type": "code",
   "execution_count": null,
   "id": "642ffbbe-a563-4a82-858d-f9daf23a61c6",
   "metadata": {},
   "outputs": [],
   "source": [
    "random_url = url + f\"&sp={random_page}\""
   ]
  },
  {
   "cell_type": "code",
   "execution_count": null,
   "id": "df02d090-f3e0-4309-953f-08fca72bf1be",
   "metadata": {},
   "outputs": [],
   "source": [
    "random_r = requests.get(random_url)"
   ]
  },
  {
   "cell_type": "code",
   "execution_count": null,
   "id": "1556c217-2c12-4404-be5a-be43650fbdc8",
   "metadata": {},
   "outputs": [],
   "source": [
    "random_data = random_r.json()"
   ]
  },
  {
   "cell_type": "markdown",
   "id": "6be93a56-076e-4d2e-bdab-33d28b6a0983",
   "metadata": {},
   "source": [
    "Get all the items on that page"
   ]
  },
  {
   "cell_type": "code",
   "execution_count": null,
   "id": "c82c5852-37d9-46c8-bd37-59ff5fcc0a49",
   "metadata": {},
   "outputs": [],
   "source": [
    "def get_items(page):\n",
    "    items = []\n",
    "    results = page['results']\n",
    "    for result in results:\n",
    "        # Filter out anything that's a colletion or web page\n",
    "        filter_out = (\"collection\" in result.get(\"original_format\")) or (\"web page\" in result.get(\"original_format\")) \n",
    "        if not filter_out:\n",
    "            # Get the link to the item record\n",
    "            if result.get(\"id\"):\n",
    "                item = result.get(\"id\")\n",
    "                # Filter out links to Catalog or other platforms\n",
    "                if item.startswith(\"http://www.loc.gov/item\"):\n",
    "                    items.append(result)\n",
    "    return items"
   ]
  },
  {
   "cell_type": "code",
   "execution_count": null,
   "id": "8d161495-dcc5-47eb-9d2a-19c451f4290d",
   "metadata": {},
   "outputs": [],
   "source": [
    "items = get_items(random_data)"
   ]
  },
  {
   "cell_type": "markdown",
   "id": "cd51fbb8-287a-49b3-8c94-5b1d72cd3a40",
   "metadata": {},
   "source": [
    "Get a random item"
   ]
  },
  {
   "cell_type": "code",
   "execution_count": null,
   "id": "2a919283-e766-4be0-9703-9c3f63d33ca3",
   "metadata": {},
   "outputs": [],
   "source": [
    "random_item = random.choice(items)"
   ]
  },
  {
   "cell_type": "code",
   "execution_count": null,
   "id": "b8f63b4b-1487-4b52-8076-0b37f4a127b7",
   "metadata": {},
   "outputs": [],
   "source": [
    "random_item['title'], random_item['url']"
   ]
  },
  {
   "cell_type": "markdown",
   "id": "cf1a86f7-9124-48e6-8aac-11ee8e93408f",
   "metadata": {},
   "source": [
    "Clean up the title"
   ]
  },
  {
   "cell_type": "code",
   "execution_count": null,
   "id": "0582be13-e765-4d39-b8c2-4b45b3cb0639",
   "metadata": {},
   "outputs": [],
   "source": [
    "def get_clean_title(title):\n",
    "    s = title.strip()\n",
    "    s = s.replace(\"Sanborn Fire Insurance Map from \", \"\")\n",
    "    return s.strip()"
   ]
  },
  {
   "cell_type": "code",
   "execution_count": null,
   "id": "0129afd1-7ef7-4a0b-9b73-4ba855818988",
   "metadata": {},
   "outputs": [],
   "source": [
    "clean_title = get_clean_title(random_item['title'])"
   ]
  },
  {
   "cell_type": "code",
   "execution_count": null,
   "id": "fef8eb8e-b988-4169-a766-ee98326b10b6",
   "metadata": {},
   "outputs": [],
   "source": [
    "clean_title"
   ]
  },
  {
   "cell_type": "markdown",
   "id": "46661548-9f39-4646-a30b-238a90f5da13",
   "metadata": {},
   "source": [
    "Get all the images for that item"
   ]
  },
  {
   "cell_type": "code",
   "execution_count": null,
   "id": "b9536fb7-dc1d-4f75-9952-8feb1ffa72bb",
   "metadata": {},
   "outputs": [],
   "source": [
    "def get_images(item):\n",
    "    params = {\"fo\": \"json\"}\n",
    "    r = requests.get(item, params=params)\n",
    "    data = r.json()\n",
    "    jpg_list = []\n",
    "    for resource_index, resource in enumerate(data['resources']):\n",
    "        resource_url = data['item']['resources'][resource_index]['url']\n",
    "        for index, file_list in enumerate(resource['files']):\n",
    "            # Get the JPGs\n",
    "            jpgs = [f for f in file_list if f['mimetype'] == 'image/jpeg']\n",
    "            # Take the biggest one\n",
    "            jpgs = sorted(jpgs, key=lambda x: x['width'], reverse=True)\n",
    "            jpg_list.append(jpgs[0]['url'])\n",
    "    return jpg_list"
   ]
  },
  {
   "cell_type": "code",
   "execution_count": null,
   "id": "b5a38763-23ce-4e91-9a9a-d7306ab73a77",
   "metadata": {},
   "outputs": [],
   "source": [
    "jpg_list = get_images(random_item['id'])"
   ]
  },
  {
   "cell_type": "markdown",
   "id": "692d8f47-d528-4d46-8e66-cd6610d8e8fa",
   "metadata": {},
   "source": [
    "Trim down to the first four images, since that's all Twitter allows"
   ]
  },
  {
   "cell_type": "code",
   "execution_count": null,
   "id": "0287a3fd-0759-4ac4-918c-34da453dfb1d",
   "metadata": {},
   "outputs": [],
   "source": [
    "jpg_list[:4]"
   ]
  },
  {
   "cell_type": "markdown",
   "id": "76f300a8-2351-4c5c-82e8-a2cbb6feb703",
   "metadata": {},
   "source": [
    "Toot it"
   ]
  },
  {
   "cell_type": "code",
   "execution_count": null,
   "id": "f743aa00-8e26-426a-9049-19e7bd5975db",
   "metadata": {},
   "outputs": [],
   "source": [
    "api = Mastodon(\n",
    "    client_id=os.getenv(\"MASTODON_CLIENT_KEY\"),\n",
    "    client_secret=os.getenv(\"MASTODON_CLIENT_SECRET\"),\n",
    "    access_token=os.getenv(\"MASTODON_ACCESS_TOKEN\"),\n",
    "    api_base_url=\"https://mastodon.palewi.re\",\n",
    ")"
   ]
  },
  {
   "cell_type": "code",
   "execution_count": null,
   "id": "82e43cf3-e951-4eb4-a560-0bbb3c6c760d",
   "metadata": {},
   "outputs": [],
   "source": [
    "def download_url(url: str, output_path: Path, timeout: int = 180):\n",
    "    \"\"\"Download the provided URL to the provided path.\"\"\"\n",
    "    with requests.get(url, stream=True, timeout=timeout) as r:\n",
    "        r.raise_for_status()\n",
    "        with open(output_path, \"wb\") as f:\n",
    "            for chunk in r.iter_content(chunk_size=8192):\n",
    "                f.write(chunk)\n",
    "    return output_path"
   ]
  },
  {
   "cell_type": "code",
   "execution_count": null,
   "id": "c8064770-93da-4e7f-973c-cd75c51fd0cf",
   "metadata": {},
   "outputs": [],
   "source": [
    "local_jpg = [download_url(j, Path(f\"{i}.jpg\")) for i, j in enumerate(jpg_list[:4])]"
   ]
  },
  {
   "cell_type": "code",
   "execution_count": null,
   "id": "66f63aed-e7e6-4858-9f15-1bb0446f8832",
   "metadata": {},
   "outputs": [],
   "source": [
    "media_ids = [api.media_post(p) for p in local_jpg]"
   ]
  },
  {
   "cell_type": "code",
   "execution_count": null,
   "id": "cdc174d8-c373-426e-a0bd-4525cd82e090",
   "metadata": {},
   "outputs": [],
   "source": [
    "status = f\"{clean_title} {random_item['url']}\""
   ]
  },
  {
   "cell_type": "code",
   "execution_count": null,
   "id": "6c4e4459-ab93-46d3-a852-b17882f6abf2",
   "metadata": {},
   "outputs": [],
   "source": [
    "post = api.status_post(status, media_ids=[m['id'] for m in media_ids])"
   ]
  }
 ],
 "metadata": {
  "kernelspec": {
   "display_name": "Python 3 (ipykernel)",
   "language": "python",
   "name": "python3"
  },
  "language_info": {
   "codemirror_mode": {
    "name": "ipython",
    "version": 3
   },
   "file_extension": ".py",
   "mimetype": "text/x-python",
   "name": "python",
   "nbconvert_exporter": "python",
   "pygments_lexer": "ipython3",
   "version": "3.8.8"
  }
 },
 "nbformat": 4,
 "nbformat_minor": 5
}
